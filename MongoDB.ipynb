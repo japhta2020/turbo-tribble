{
 "cells": [
  {
   "cell_type": "code",
   "execution_count": 63,
   "metadata": {},
   "outputs": [],
   "source": [
    "import pymongo\n",
    "# created a database\n",
    "myclient = pymongo.MongoClient('mongodb://localhost:27017/')\n",
    "\n",
    "mydb = myclient['Datatracker']\n",
    "\n"
   ]
  },
  {
   "cell_type": "code",
   "execution_count": 67,
   "metadata": {},
   "outputs": [],
   "source": [
    "# created a collection\n",
    "mycol = mydb[\"customers\"]\n",
    "mydict = { \"items\": \"chips\", \"brands\": \"simba\" }\n",
    "\n",
    "x = mycol.insert_one(mydict)\n"
   ]
  },
  {
   "cell_type": "code",
   "execution_count": 35,
   "metadata": {
    "scrolled": true
   },
   "outputs": [],
   "source": [
    "for x in mycol.find():\n",
    "    print(x) "
   ]
  },
  {
   "cell_type": "code",
   "execution_count": 34,
   "metadata": {},
   "outputs": [],
   "source": [
    "# created a collection\n",
    "mycol2 = mydb[\"Myproducts\"]"
   ]
  },
  {
   "cell_type": "code",
   "execution_count": 23,
   "metadata": {},
   "outputs": [],
   "source": [
    "mytop = [\n",
    "         { \"item\": \"chips\",\n",
    "          \"brands\": \"simba\",\n",
    "          \"prices\": \"20\",\n",
    "          \"sizes\": \"125\",\n",
    "          \"quantity\": \"20\",\n",
    "          \"stock price\": \"200\",\n",
    "          \"barcode\": \"245845\",\n",
    "          \"expiry date\": \"02.09.2019\",\n",
    "          \"shelf number\": \"1\"},\n",
    "  #2\n",
    "         { \"item\": \"chocolate\",\n",
    "          \"brands\": \"cadbury\",\n",
    "          \"prices\": \"16\",\n",
    "          \"sizes\": \"55\",\n",
    "          \"quantity\": \"10\",\n",
    "          \"stock price\": \"200\",\n",
    "          \"barcode\": \"132587\",\n",
    "          \"expiry date\": \"04.05.2020\",\n",
    "         \"shelf number\": \"2\"},\n",
    " #3    \n",
    "         { \"item\": \"cooldrinks\",\n",
    "           \"brands\": \"coke\",\n",
    "           \"prices\": \"25\",\n",
    "           \"sizes\": \"2l\",\n",
    "           \"quantity\": \"16\",\n",
    "           \"stock price\": \"400\",\n",
    "           \"barcode\": \"154879\",\n",
    "           \"expiry date\": \"06.10.2020\",\n",
    "            \"shelf number\": \"3\"}\n",
    "    \n",
    "]\n",
    "\n",
    "x = mycol2.insert_many(mytop)"
   ]
  },
  {
   "cell_type": "code",
   "execution_count": 83,
   "metadata": {},
   "outputs": [
    {
     "name": "stdout",
     "output_type": "stream",
     "text": [
      "{'_id': ObjectId('5e58d47c7632e2f7fd10d08a'), 'items': 'chips', 'brands': 'simba'}\n",
      "{'_id': ObjectId('5e58c8d67632e2f7fd10d066'), 'items': 'chips', 'brands': 'simba'}\n",
      "{'_id': ObjectId('5e57c5f55dc7513da83a3142'), '\"ITEMS;\"\"BRANDS\"\";\"\"PRICES\"\";\"\"SIZES\"\";\"\"QUANTITY\"\";\"\"STOCK PRICE\"\";\"\"barcode\"\";\"\"expiry date\"\"\"': ''}\n",
      "{'_id': ObjectId('5e57c5f55dc7513da83a3141'), '\"ITEMS;\"\"BRANDS\"\";\"\"PRICES\"\";\"\"SIZES\"\";\"\"QUANTITY\"\";\"\"STOCK PRICE\"\";\"\"barcode\"\";\"\"expiry date\"\"\"': '\"BISCUITS;\"\"eat some more\"\";\"\"10\"\";\"\"150g\"\";10;100;\"\"458974\"\";\"\"08.06.2020\"\"\"'}\n",
      "{'_id': ObjectId('5e57c5f55dc7513da83a3140'), '\"ITEMS;\"\"BRANDS\"\";\"\"PRICES\"\";\"\"SIZES\"\";\"\"QUANTITY\"\";\"\"STOCK PRICE\"\";\"\"barcode\"\";\"\"expiry date\"\"\"': '\"BISCUITS;\"\"ginger biscuits\"\";\"\"10\"\";\"\"150g\"\";14;200;\"\"155895\"\";\"\"04.06.2020\"\"\"'}\n",
      "{'_id': ObjectId('5e57c5f55dc7513da83a313f'), '\"ITEMS;\"\"BRANDS\"\";\"\"PRICES\"\";\"\"SIZES\"\";\"\"QUANTITY\"\";\"\"STOCK PRICE\"\";\"\"barcode\"\";\"\"expiry date\"\"\"': '\"BISCUITS;\"\"tennis\"\";\"\"12\"\";\"\"150g\"\";13;300;\"\"458965\"\";\"\"08.06.2020\"\"\"'}\n",
      "{'_id': ObjectId('5e57c5f55dc7513da83a313e'), '\"ITEMS;\"\"BRANDS\"\";\"\"PRICES\"\";\"\"SIZES\"\";\"\"QUANTITY\"\";\"\"STOCK PRICE\"\";\"\"barcode\"\";\"\"expiry date\"\"\"': '\"BISCUITS;\"\"lemon creams\"\";\"\"16\"\";\"\"150g\"\";10;200;\"\"125489\"\";\"\"06.05.2020\"\"\"'}\n",
      "{'_id': ObjectId('5e57c5f55dc7513da83a313d'), '\"ITEMS;\"\"BRANDS\"\";\"\"PRICES\"\";\"\"SIZES\"\";\"\"QUANTITY\"\";\"\"STOCK PRICE\"\";\"\"barcode\"\";\"\"expiry date\"\"\"': '\"biscuit;\"\"maries\"\";\"\"13\"\";\"\"150g\"\";20;150;\"\"124145\"\";\"\"02.05.2020\"\"\"'}\n",
      "{'_id': ObjectId('5e57c5f55dc7513da83a313c'), '\"ITEMS;\"\"BRANDS\"\";\"\"PRICES\"\";\"\"SIZES\"\";\"\"QUANTITY\"\";\"\"STOCK PRICE\"\";\"\"barcode\"\";\"\"expiry date\"\"\"': '\"healthy veggies;\"\"tomato\"\";\"\"12\"\";\"\"1kg\"\";10;100;\"\"895641\"\";\"\"02.04.2020\"\"\"'}\n",
      "{'_id': ObjectId('5e57c5f55dc7513da83a313b'), '\"ITEMS;\"\"BRANDS\"\";\"\"PRICES\"\";\"\"SIZES\"\";\"\"QUANTITY\"\";\"\"STOCK PRICE\"\";\"\"barcode\"\";\"\"expiry date\"\"\"': '\"healthy veggies;\"\"carrot\"\";\"\"R20\"\";\"\"2kg\"\";9;200;\"\"789522\"\";\"\"11.04.2020\"\"\"'}\n",
      "{'_id': ObjectId('5e57c5f55dc7513da83a313a'), '\"ITEMS;\"\"BRANDS\"\";\"\"PRICES\"\";\"\"SIZES\"\";\"\"QUANTITY\"\";\"\"STOCK PRICE\"\";\"\"barcode\"\";\"\"expiry date\"\"\"': '\"healthy veggies;\"\"beetrot\"\";\"\"R18\"\";\"\"1kg\"\";10;150;\"\"200142\"\";\"\"26.04.2020\"\"\"'}\n",
      "{'_id': ObjectId('5e57c5f55dc7513da83a3139'), '\"ITEMS;\"\"BRANDS\"\";\"\"PRICES\"\";\"\"SIZES\"\";\"\"QUANTITY\"\";\"\"STOCK PRICE\"\";\"\"barcode\"\";\"\"expiry date\"\"\"': '\"healthy veggies;\"\"spinach\"\";\"\"R15\"\";\"\"bunch\"\";13;120;\"\"121562\"\";\"\"06.08.2020\"\"\"'}\n",
      "{'_id': ObjectId('5e57c5f55dc7513da83a3138'), '\"ITEMS;\"\"BRANDS\"\";\"\"PRICES\"\";\"\"SIZES\"\";\"\"QUANTITY\"\";\"\"STOCK PRICE\"\";\"\"barcode\"\";\"\"expiry date\"\"\"': '\"healthy veggies;\"\"cabbage\"\";\"\"R10\"\";\"\"single\"\";11;200;\"\"110456\"\";\"\"09.08.2020\"\"\"'}\n",
      "{'_id': ObjectId('5e57c5f55dc7513da83a3137'), '\"ITEMS;\"\"BRANDS\"\";\"\"PRICES\"\";\"\"SIZES\"\";\"\"QUANTITY\"\";\"\"STOCK PRICE\"\";\"\"barcode\"\";\"\"expiry date\"\"\"': '\"HEALTHY VEGGIES;\"\"potatoes\"\";\"\"R10\"\";\"\"1kg\"\";10;100;\"\"478952\"\";\"\"12.08.2020\"\"\"'}\n",
      "{'_id': ObjectId('5e57c5f55dc7513da83a3136'), '\"ITEMS;\"\"BRANDS\"\";\"\"PRICES\"\";\"\"SIZES\"\";\"\"QUANTITY\"\";\"\"STOCK PRICE\"\";\"\"barcode\"\";\"\"expiry date\"\"\"': '\"cupcakes;\"\"blueberry\"\";\"\"R25\"\";\"\"100g\"\";11;100;\"\"789654\"\";\"\"20.08.2020\"\"\"'}\n",
      "{'_id': ObjectId('5e57c5f55dc7513da83a3135'), '\"ITEMS;\"\"BRANDS\"\";\"\"PRICES\"\";\"\"SIZES\"\";\"\"QUANTITY\"\";\"\"STOCK PRICE\"\";\"\"barcode\"\";\"\"expiry date\"\"\"': '\"cupcakes;\"\"caramel\"\";\"\"R16\"\";\"\"100g\"\";10;120;\"\"126589\"\";\"\"05.08.2020\"\"\"'}\n",
      "{'_id': ObjectId('5e57c5f55dc7513da83a3134'), '\"ITEMS;\"\"BRANDS\"\";\"\"PRICES\"\";\"\"SIZES\"\";\"\"QUANTITY\"\";\"\"STOCK PRICE\"\";\"\"barcode\"\";\"\"expiry date\"\"\"': '\"cupcakes;\"\"redvelvet\"\";\"\"R20\"\";\"\"100g\"\";8;150;\"\"412569\"\";\"\"11.08.2020\"\"\"'}\n",
      "{'_id': ObjectId('5e57c5f55dc7513da83a3133'), '\"ITEMS;\"\"BRANDS\"\";\"\"PRICES\"\";\"\"SIZES\"\";\"\"QUANTITY\"\";\"\"STOCK PRICE\"\";\"\"barcode\"\";\"\"expiry date\"\"\"': '\"cupcakes;\"\"chocolate\"\";\"\"R13\"\";\"\"100g\"\";9;300;\"\"145698\"\";\"\"11.07.2020\"\"\"'}\n",
      "{'_id': ObjectId('5e57c5f55dc7513da83a3132'), '\"ITEMS;\"\"BRANDS\"\";\"\"PRICES\"\";\"\"SIZES\"\";\"\"QUANTITY\"\";\"\"STOCK PRICE\"\";\"\"barcode\"\";\"\"expiry date\"\"\"': '\"CUPY CUPCAKES;\"\"vannila\"\";\"\"R12\"\";\"\"100g\"\";10;250;\"\"152658\"\";\"\"10.07.2020\"\"\"'}\n",
      "{'_id': ObjectId('5e57c5f55dc7513da83a3131'), '\"ITEMS;\"\"BRANDS\"\";\"\"PRICES\"\";\"\"SIZES\"\";\"\"QUANTITY\"\";\"\"STOCK PRICE\"\";\"\"barcode\"\";\"\"expiry date\"\"\"': '\"fruits;\"\"orange\"\";\"\"R16\"\";\"\"1kg\"\";15;250;\"\"200457\"\";\"\"04.07.2020\"\"\"'}\n",
      "{'_id': ObjectId('5e57c5f55dc7513da83a3130'), '\"ITEMS;\"\"BRANDS\"\";\"\"PRICES\"\";\"\"SIZES\"\";\"\"QUANTITY\"\";\"\"STOCK PRICE\"\";\"\"barcode\"\";\"\"expiry date\"\"\"': '\"fruits;\"\"grapes\"\";\"\"R20\"\";\"\"1kg\"\";20;150;\"\"458965\"\";\"\"04.06.2020\"\"\"'}\n",
      "{'_id': ObjectId('5e57c5f55dc7513da83a312f'), '\"ITEMS;\"\"BRANDS\"\";\"\"PRICES\"\";\"\"SIZES\"\";\"\"QUANTITY\"\";\"\"STOCK PRICE\"\";\"\"barcode\"\";\"\"expiry date\"\"\"': '\"fruits;\"\"banana\"\";\"\"R16\"\";\"\"1kg\"\";11;200;\"\"526589\"\";\"\"02.06.2020\"\"\"'}\n",
      "{'_id': ObjectId('5e57c5f55dc7513da83a312e'), '\"ITEMS;\"\"BRANDS\"\";\"\"PRICES\"\";\"\"SIZES\"\";\"\"QUANTITY\"\";\"\"STOCK PRICE\"\";\"\"barcode\"\";\"\"expiry date\"\"\"': '\"fruits;\"\"mango\"\";\"\"R20\"\";\"\"1kg\"\";20;150;\"\"458967\"\";\"\"03.06.2020\"\"\"'}\n",
      "{'_id': ObjectId('5e57c5f55dc7513da83a312d'), '\"ITEMS;\"\"BRANDS\"\";\"\"PRICES\"\";\"\"SIZES\"\";\"\"QUANTITY\"\";\"\"STOCK PRICE\"\";\"\"barcode\"\";\"\"expiry date\"\"\"': '\"THE FRUITS;\"\"apples\"\";\"\"R12\"\";\"\"1kg\"\";12;200;\"\"458974\"\";\"\"12.06.2020\"\"\"'}\n",
      "{'_id': ObjectId('5e57c5f55dc7513da83a312c'), '\"ITEMS;\"\"BRANDS\"\";\"\"PRICES\"\";\"\"SIZES\"\";\"\"QUANTITY\"\";\"\"STOCK PRICE\"\";\"\"barcode\"\";\"\"expiry date\"\"\"': '\"pies;\"\"fetta n  spinach\"\";\"\"R30\"\";\"\"160g\"\";14;160;\"\"10458\"\";\"\"23.06.2020\"\"\"'}\n",
      "{'_id': ObjectId('5e57c5f55dc7513da83a312b'), '\"ITEMS;\"\"BRANDS\"\";\"\"PRICES\"\";\"\"SIZES\"\";\"\"QUANTITY\"\";\"\"STOCK PRICE\"\";\"\"barcode\"\";\"\"expiry date\"\"\"': '\"pies;\"\"sausage roll\"\";\"\"R28\"\";\"\"160g\"\";15;20;\"\"104581\"\";\"\"23.06.2020\"\"\"'}\n",
      "{'_id': ObjectId('5e57c5f55dc7513da83a312a'), '\"ITEMS;\"\"BRANDS\"\";\"\"PRICES\"\";\"\"SIZES\"\";\"\"QUANTITY\"\";\"\"STOCK PRICE\"\";\"\"barcode\"\";\"\"expiry date\"\"\"': '\"pies;\"\"steak n kidney\"\";\"\"R26\"\";\"\"160g\"\";20;150;\"\"100023\"\";\"\"10.06.2020\"\"\"'}\n",
      "{'_id': ObjectId('5e57c5f55dc7513da83a3129'), '\"ITEMS;\"\"BRANDS\"\";\"\"PRICES\"\";\"\"SIZES\"\";\"\"QUANTITY\"\";\"\"STOCK PRICE\"\";\"\"barcode\"\";\"\"expiry date\"\"\"': '\"pies;\"\"chicken\"\";\"\"R30\"\";\"\"160g\"\";13;250;\"\"102365\"\";\"\"04.06.2020\"\"\"'}\n",
      "{'_id': ObjectId('5e57c5f55dc7513da83a3128'), '\"ITEMS;\"\"BRANDS\"\";\"\"PRICES\"\";\"\"SIZES\"\";\"\"QUANTITY\"\";\"\"STOCK PRICE\"\";\"\"barcode\"\";\"\"expiry date\"\"\"': '\"NICE PIES ;\"\"pepper steak\"\";\"\"R25\"\";\"\"160g\"\";10;200;\"\"601258\"\";\"\"28.06.2020\"\"\"'}\n",
      "{'_id': ObjectId('5e57c5f55dc7513da83a3127'), '\"ITEMS;\"\"BRANDS\"\";\"\"PRICES\"\";\"\"SIZES\"\";\"\"QUANTITY\"\";\"\"STOCK PRICE\"\";\"\"barcode\"\";\"\"expiry date\"\"\"': '\"chocolate;\"\"lunchbar\"\";\"\"R16\"\";\"\"55g\"\";20;200;\"\"214587\"\";\"\"26.05.2020\"\"\"'}\n",
      "{'_id': ObjectId('5e57c5f55dc7513da83a3126'), '\"ITEMS;\"\"BRANDS\"\";\"\"PRICES\"\";\"\"SIZES\"\";\"\"QUANTITY\"\";\"\"STOCK PRICE\"\";\"\"barcode\"\";\"\"expiry date\"\"\"': '\"chocolate;\"\"ps\"\";\"\"R12\"\";\"\"55g\"\";12;120;\"\"152354\"\";\"\"22.05.2020\"\"\"'}\n",
      "{'_id': ObjectId('5e57c5f55dc7513da83a3125'), '\"ITEMS;\"\"BRANDS\"\";\"\"PRICES\"\";\"\"SIZES\"\";\"\"QUANTITY\"\";\"\"STOCK PRICE\"\";\"\"barcode\"\";\"\"expiry date\"\"\"': '\"chocolate;\"\"barone\"\";\"\"R17\"\";\"\"55g\"\";16;150;\"\"158964\"\";\"\"16.05.2020\"\"\"'}\n",
      "{'_id': ObjectId('5e57c5f55dc7513da83a3124'), '\"ITEMS;\"\"BRANDS\"\";\"\"PRICES\"\";\"\"SIZES\"\";\"\"QUANTITY\"\";\"\"STOCK PRICE\"\";\"\"barcode\"\";\"\"expiry date\"\"\"': '\"chocolate;\"\"tex\"\";\"\"R18\"\";\"\"55g\"\";9;300;\"\"156287\"\";\"\"09.05.2020\"\"\"'}\n",
      "{'_id': ObjectId('5e57c5f55dc7513da83a3123'), '\"ITEMS;\"\"BRANDS\"\";\"\"PRICES\"\";\"\"SIZES\"\";\"\"QUANTITY\"\";\"\"STOCK PRICE\"\";\"\"barcode\"\";\"\"expiry date\"\"\"': '\"CHOCOLATES;\"\"cadbury\"\";\"\"R16\"\";\"\"55g\"\";10;200;\"\"132587\"\";\"\"04.05.2020\"\"\"'}\n",
      "{'_id': ObjectId('5e57c5f55dc7513da83a3122'), '\"ITEMS;\"\"BRANDS\"\";\"\"PRICES\"\";\"\"SIZES\"\";\"\"QUANTITY\"\";\"\"STOCK PRICE\"\";\"\"barcode\"\";\"\"expiry date\"\"\"': '\"cooldrink;\"\"score\"\";\"\"R10\"\";\"\"440ml\"\";12;200;\"\"156489\"\";\"\"09.06.2020\"\"\"'}\n",
      "{'_id': ObjectId('5e57c5f55dc7513da83a3121'), '\"ITEMS;\"\"BRANDS\"\";\"\"PRICES\"\";\"\"SIZES\"\";\"\"QUANTITY\"\";\"\"STOCK PRICE\"\";\"\"barcode\"\";\"\"expiry date\"\"\"': '\"cooldrink;\"\"stoney\"\";\"\"R25\"\";\"\"2l\"\";10;300;\"\"156489\"\";\"\"03.06.2020\"\"\"'}\n",
      "{'_id': ObjectId('5e57c5f55dc7513da83a3120'), '\"ITEMS;\"\"BRANDS\"\";\"\"PRICES\"\";\"\"SIZES\"\";\"\"QUANTITY\"\";\"\"STOCK PRICE\"\";\"\"barcode\"\";\"\"expiry date\"\"\"': '\"cooldrink;\"\"fanta\"\";\"\"R19\"\";\"\"2l\"\";13;300;\"\"154879\"\";\"\"02.05.2020\"\"\"'}\n",
      "{'_id': ObjectId('5e57c5f55dc7513da83a311f'), '\"ITEMS;\"\"BRANDS\"\";\"\"PRICES\"\";\"\"SIZES\"\";\"\"QUANTITY\"\";\"\"STOCK PRICE\"\";\"\"barcode\"\";\"\"expiry date\"\"\"': '\"cooldrink;\"\"coke\"\";\"\"R25\"\";\"\"2l\"\";20;400;\"\"154879\"\";\"\"06.10.2020\"\"\"'}\n",
      "{'_id': ObjectId('5e57c5f55dc7513da83a311e'), '\"ITEMS;\"\"BRANDS\"\";\"\"PRICES\"\";\"\"SIZES\"\";\"\"QUANTITY\"\";\"\"STOCK PRICE\"\";\"\"barcode\"\";\"\"expiry date\"\"\"': '\"cooldrink;\"\"sprite\"\";\"\"R25\"\";\"\"2l\"\";16;200;\"\"256987\"\";\"\"01.10.2020\"\"\"'}\n",
      "{'_id': ObjectId('5e57c5f55dc7513da83a311d'), '\"ITEMS;\"\"BRANDS\"\";\"\"PRICES\"\";\"\"SIZES\"\";\"\"QUANTITY\"\";\"\"STOCK PRICE\"\";\"\"barcode\"\";\"\"expiry date\"\"\"': '\"chips;\"\"doritos\"\";\"\"R20\"\";\"\"125g\"\";30;150;\"\"698521\"\";\"\"01.08.2020\"\"\"'}\n",
      "{'_id': ObjectId('5e57c5f55dc7513da83a311c'), '\"ITEMS;\"\"BRANDS\"\";\"\"PRICES\"\";\"\"SIZES\"\";\"\"QUANTITY\"\";\"\"STOCK PRICE\"\";\"\"barcode\"\";\"\"expiry date\"\"\"': '\"chips;\"\"cheetos\"\";\"\"R16\"\";\"\"125g\"\";16;100;\"\"558924\"\";\"\"01.25.2019\"\"\"'}\n",
      "{'_id': ObjectId('5e57c5f55dc7513da83a311b'), '\"ITEMS;\"\"BRANDS\"\";\"\"PRICES\"\";\"\"SIZES\"\";\"\"QUANTITY\"\";\"\"STOCK PRICE\"\";\"\"barcode\"\";\"\"expiry date\"\"\"': '\"chips;\"\"niknaks\"\";\"\"R18\"\";\"\"125g\"\";16;300;\"\"601257\"\";\"\"05.10.2019\"\"\"'}\n",
      "{'_id': ObjectId('5e57c5f55dc7513da83a311a'), '\"ITEMS;\"\"BRANDS\"\";\"\"PRICES\"\";\"\"SIZES\"\";\"\"QUANTITY\"\";\"\"STOCK PRICE\"\";\"\"barcode\"\";\"\"expiry date\"\"\"': '\"CHIPS;\"\"simba\"\";\"\"R20\"\";\"\"125g\"\";20;200;\"\"245845\"\";\"\"02.09.2019\"\"\"'}\n"
     ]
    }
   ],
   "source": [
    "myclient = pymongo.MongoClient(\"mongodb://localhost:27017/\")\n",
    "mydb = myclient[\"Datatracker\"]\n",
    "mycol = mydb[\"customers\"]\n",
    "\n",
    "mydoc = mycol.find().sort(\"_id\", -1)\n",
    "\n",
    "for x in mydoc:\n",
    "    print(x) "
   ]
  },
  {
   "cell_type": "code",
   "execution_count": 28,
   "metadata": {},
   "outputs": [
    {
     "data": {
      "text/plain": [
       "<pymongo.results.DeleteResult at 0x19ae5ced808>"
      ]
     },
     "execution_count": 28,
     "metadata": {},
     "output_type": "execute_result"
    }
   ],
   "source": [
    "\n",
    "myclient = pymongo.MongoClient(\"mongodb://localhost:27017/\")\n",
    "mydb = myclient[\"Datatracker\"]\n",
    "mycol = mydb[\"Myproducts\"]\n",
    "\n",
    "myquery = { \"brands\": \"simba\" }\n",
    "\n",
    "mycol.delete_one(myquery) "
   ]
  },
  {
   "cell_type": "code",
   "execution_count": 29,
   "metadata": {},
   "outputs": [
    {
     "data": {
      "text/plain": [
       "<pymongo.results.DeleteResult at 0x19ae9a45488>"
      ]
     },
     "execution_count": 29,
     "metadata": {},
     "output_type": "execute_result"
    }
   ],
   "source": [
    "myclient = pymongo.MongoClient(\"mongodb://localhost:27017/\")\n",
    "mydb = myclient[\"Datatracker\"]\n",
    "mycol = mydb[\"Myproducts\"]\n",
    "\n",
    "myquery = { \"brands\": \"coke\" }\n",
    "\n",
    "mycol.delete_one(myquery) "
   ]
  },
  {
   "cell_type": "code",
   "execution_count": 37,
   "metadata": {},
   "outputs": [
    {
     "name": "stdout",
     "output_type": "stream",
     "text": [
      "{'_id': ObjectId('5e58c8c27632e2f7fd10d064'), 'item': 'chocolate', 'brands': 'cadbury', 'prices': '16', 'sizes': '55', 'quantity': '10', 'stock price': '200', 'barcode': '132587', 'expiry date': '04.05.2020', 'shelf number': '2', 'storage': 'cooler'}\n"
     ]
    }
   ],
   "source": [
    "myclient = pymongo.MongoClient(\"mongodb://localhost:27017/\")\n",
    "mydb = myclient[\"Datatracker\"]\n",
    "mycol = mydb[\"Myproducts\"]\n",
    "\n",
    "myquery = { \"brands\": \"cadbury\" }\n",
    "newvalues = { \"$set\": { \"storage\": \"cooler\" } }\n",
    "\n",
    "mycol.update_one(myquery, newvalues)\n",
    "\n",
    "#print \"Myproducts\" after the update:\n",
    "for x in mycol.find():\n",
    "    print(x) "
   ]
  },
  {
   "cell_type": "code",
   "execution_count": 88,
   "metadata": {},
   "outputs": [
    {
     "name": "stdout",
     "output_type": "stream",
     "text": [
      "{'_id': ObjectId('5e57c5f55dc7513da83a311a'), '\"ITEMS;\"\"BRANDS\"\";\"\"PRICES\"\";\"\"SIZES\"\";\"\"QUANTITY\"\";\"\"STOCK PRICE\"\";\"\"barcode\"\";\"\"expiry date\"\"\"': '\"CHIPS;\"\"simba\"\";\"\"R20\"\";\"\"125g\"\";20;200;\"\"245845\"\";\"\"02.09.2019\"\"\"'}\n",
      "{'_id': ObjectId('5e57c5f55dc7513da83a311b'), '\"ITEMS;\"\"BRANDS\"\";\"\"PRICES\"\";\"\"SIZES\"\";\"\"QUANTITY\"\";\"\"STOCK PRICE\"\";\"\"barcode\"\";\"\"expiry date\"\"\"': '\"chips;\"\"niknaks\"\";\"\"R18\"\";\"\"125g\"\";16;300;\"\"601257\"\";\"\"05.10.2019\"\"\"'}\n",
      "{'_id': ObjectId('5e57c5f55dc7513da83a311c'), '\"ITEMS;\"\"BRANDS\"\";\"\"PRICES\"\";\"\"SIZES\"\";\"\"QUANTITY\"\";\"\"STOCK PRICE\"\";\"\"barcode\"\";\"\"expiry date\"\"\"': '\"chips;\"\"cheetos\"\";\"\"R16\"\";\"\"125g\"\";16;100;\"\"558924\"\";\"\"01.25.2019\"\"\"'}\n",
      "{'_id': ObjectId('5e57c5f55dc7513da83a311d'), '\"ITEMS;\"\"BRANDS\"\";\"\"PRICES\"\";\"\"SIZES\"\";\"\"QUANTITY\"\";\"\"STOCK PRICE\"\";\"\"barcode\"\";\"\"expiry date\"\"\"': '\"chips;\"\"doritos\"\";\"\"R20\"\";\"\"125g\"\";30;150;\"\"698521\"\";\"\"01.08.2020\"\"\"'}\n",
      "{'_id': ObjectId('5e57c5f55dc7513da83a311e'), '\"ITEMS;\"\"BRANDS\"\";\"\"PRICES\"\";\"\"SIZES\"\";\"\"QUANTITY\"\";\"\"STOCK PRICE\"\";\"\"barcode\"\";\"\"expiry date\"\"\"': '\"cooldrink;\"\"sprite\"\";\"\"R25\"\";\"\"2l\"\";16;200;\"\"256987\"\";\"\"01.10.2020\"\"\"'}\n"
     ]
    }
   ],
   "source": [
    "myclient = pymongo.MongoClient(\"mongodb://localhost:27017/\")\n",
    "mydb = myclient[\"Datatracker\"]\n",
    "mycol = mydb[\"customers\"]\n",
    "\n",
    "mydoc = mycol.find().limit(-5)\n",
    "\n",
    "for x in mydoc:\n",
    "    print(x) "
   ]
  },
  {
   "cell_type": "code",
   "execution_count": 93,
   "metadata": {},
   "outputs": [
    {
     "name": "stdout",
     "output_type": "stream",
     "text": [
      "{'_id': ObjectId('5e57c5f55dc7513da83a311a'), '\"ITEMS;\"\"BRANDS\"\";\"\"PRICES\"\";\"\"SIZES\"\";\"\"QUANTITY\"\";\"\"STOCK PRICE\"\";\"\"barcode\"\";\"\"expiry date\"\"\"': '\"CHIPS;\"\"simba\"\";\"\"R20\"\";\"\"125g\"\";20;200;\"\"245845\"\";\"\"02.09.2019\"\"\"'}\n",
      "{'_id': ObjectId('5e57c5f55dc7513da83a311b'), '\"ITEMS;\"\"BRANDS\"\";\"\"PRICES\"\";\"\"SIZES\"\";\"\"QUANTITY\"\";\"\"STOCK PRICE\"\";\"\"barcode\"\";\"\"expiry date\"\"\"': '\"chips;\"\"niknaks\"\";\"\"R18\"\";\"\"125g\"\";16;300;\"\"601257\"\";\"\"05.10.2019\"\"\"'}\n",
      "{'_id': ObjectId('5e57c5f55dc7513da83a311c'), '\"ITEMS;\"\"BRANDS\"\";\"\"PRICES\"\";\"\"SIZES\"\";\"\"QUANTITY\"\";\"\"STOCK PRICE\"\";\"\"barcode\"\";\"\"expiry date\"\"\"': '\"chips;\"\"cheetos\"\";\"\"R16\"\";\"\"125g\"\";16;100;\"\"558924\"\";\"\"01.25.2019\"\"\"'}\n"
     ]
    }
   ],
   "source": [
    "myclient = pymongo.MongoClient(\"mongodb://localhost:27017/\")\n",
    "mydb = myclient[\"Datatracker\"]\n",
    "mycol = mydb[\"customers\"]\n",
    "\n",
    "mydoc = mycol.find().limit(3)\n",
    "\n",
    "for x in mydoc:\n",
    "    print(x) "
   ]
  },
  {
   "cell_type": "code",
   "execution_count": null,
   "metadata": {},
   "outputs": [],
   "source": []
  }
 ],
 "metadata": {
  "kernelspec": {
   "display_name": "Python 3",
   "language": "python",
   "name": "python3"
  },
  "language_info": {
   "codemirror_mode": {
    "name": "ipython",
    "version": 3
   },
   "file_extension": ".py",
   "mimetype": "text/x-python",
   "name": "python",
   "nbconvert_exporter": "python",
   "pygments_lexer": "ipython3",
   "version": "3.7.4"
  }
 },
 "nbformat": 4,
 "nbformat_minor": 2
}
